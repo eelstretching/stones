{
 "cells": [
  {
   "cell_type": "markdown",
   "metadata": {},
   "source": [
    "# Named Entity Recognition in Python using spaCy"
   ]
  },
  {
   "cell_type": "markdown",
   "metadata": {},
   "source": [
    "Note that the final step (linking the downloaded models to a simplified name) failed here, because the Python interpreter has insufficient privileges to make the link. After a couple of emails with the DS team, they suggested the following. They also pointed out that we could make a new environment and have the necessary installs in the Docker file, which is a better long term solution if we're expecting to use a package a lot, since the modification that we're making here will disappear as soon as this environment is shutdown."
   ]
  },
  {
   "cell_type": "markdown",
   "metadata": {},
   "source": [
    "I thought I would give the spaCy NLP library a test in the DS environment to see what it's like to work in the environment for some NLP tasks.\n",
    "\n",
    "In this environment, we used the PIP requirements file when starting up the environment to download and install the spaCy python module. In addition to the module, we need the actual models that are available for spaCy. So, from the Python interpreter, we shell out and call another python command to download the models."
   ]
  },
  {
   "cell_type": "code",
   "execution_count": 1,
   "metadata": {
    "scrolled": true
   },
   "outputs": [
    {
     "name": "stdout",
     "output_type": "stream",
     "text": [
      "Collecting https://github.com/explosion/spacy-models/releases/download/en_core_web_sm-2.0.0/en_core_web_sm-2.0.0.tar.gz\n",
      "  Downloading https://github.com/explosion/spacy-models/releases/download/en_core_web_sm-2.0.0/en_core_web_sm-2.0.0.tar.gz (37.4MB)\n",
      "\u001b[K    100% |################################| 37.4MB 727kB/s ta 0:00:0101                 | 9.3MB 108.9MB/s eta 0:00:010:01|###########                     | 13.8MB 88.0MB/s eta 0:00:01 |######################          | 26.0MB 79.4MB/s eta 0:00:01|########################        | 28.6MB 83.4MB/s eta 0:00:017% |############################### | 36.6MB 82.6MB/s eta 0:00:01\n",
      "\u001b[?25hInstalling collected packages: en-core-web-sm\n",
      "  Running setup.py install for en-core-web-sm ... \u001b[?25ldone\n",
      "\u001b[?25hSuccessfully installed en-core-web-sm-2.0.0\n",
      "\u001b[33mYou are using pip version 9.0.2, however version 9.0.3 is available.\n",
      "You should consider upgrading via the 'pip install --upgrade pip' command.\u001b[0m\n",
      "\n",
      "\u001b[93m    Error: Couldn't link model to 'en'\u001b[0m\n",
      "    Creating a symlink in spacy/data failed. Make sure you have the required\n",
      "    permissions and try re-running the command as admin, or use a\n",
      "    virtualenv. You can still import the model as a module and call its\n",
      "    load() method, or create the symlink manually.\n",
      "\n",
      "    /usr/local/lib/python2.7/dist-packages/en_core_web_sm -->\n",
      "    /usr/local/lib/python2.7/dist-packages/spacy/data/en\n",
      "\n",
      "\n",
      "\u001b[93m    Download successful but linking failed\u001b[0m\n",
      "    Creating a shortcut link for 'en' didn't work (maybe you don't have\n",
      "    admin permissions?), but you can still load the model via its full\n",
      "    package name:\n",
      "\n",
      "    nlp = spacy.load('en_core_web_sm')\n",
      "\n"
     ]
    }
   ],
   "source": [
    "!python -m spacy download en"
   ]
  },
  {
   "cell_type": "code",
   "execution_count": 2,
   "metadata": {},
   "outputs": [
    {
     "name": "stdout",
     "output_type": "stream",
     "text": [
      "\r\n",
      "\u001b[93m    Linking successful\u001b[0m\r\n",
      "    /usr/local/lib/python2.7/dist-packages/en_core_web_sm -->\r\n",
      "    /usr/local/lib/python2.7/dist-packages/spacy/data/en\r\n",
      "\r\n",
      "    You can now load the model via spacy.load('en')\r\n",
      "\r\n"
     ]
    }
   ],
   "source": [
    "!sudo python -m spacy link en_core_web_sm en --force"
   ]
  },
  {
   "cell_type": "markdown",
   "metadata": {},
   "source": [
    "Now we can load the English models using the \"simple\" name, like so:"
   ]
  },
  {
   "cell_type": "code",
   "execution_count": 1,
   "metadata": {},
   "outputs": [],
   "source": [
    "import spacy\n",
    "nlp = spacy.load('en')"
   ]
  },
  {
   "cell_type": "markdown",
   "metadata": {},
   "source": [
    "Now here's the tricky part with DS: much the same way that there's no model management currently (although they are working on it), there's also no abstraction for data sets.\n",
    "\n",
    "In some of the examples that we've seen from them, the data that you would be working on is checked into the same GitHub repo as the code for building and evaluating the models. While this may be tolerable for small data sets (perhaps a few hundred examples in a CSV?) it's problematic for larger datasets. For example, the OntoNotes 5 data set that is used to train one of the spaCy NER models is about 4.7GB.\n",
    "\n",
    "It's more likely that datasets will be drawn from object storage (S3 in the case of AWS) or from an HDFS instance that's running in the same cloud space as the DS system. This is currently decided by each user of DS. I expect that both of these methods are used by their current customers in an adhoc way by the data scientists.\n",
    "\n",
    "Most of these NLP tools presume that the data that you're going to be training from or evaluating has been processed down into some simple format, like having annotations in JSON for training spaCy models or files of plain text data for annotation.\n",
    "\n",
    "We'll punt and give you an idea of the capabilities by looking at a comple of examples that we checked into our source code. We're using a couple of examples we pulled out of RCV1, which are from a previous era. Note that spaCy operates only on unicode strings.\n"
   ]
  },
  {
   "cell_type": "code",
   "execution_count": 2,
   "metadata": {},
   "outputs": [
    {
     "data": {
      "text/plain": [
       "u'Sun Microsystems unveils network computer.\\n\\nSun Microsystems Inc. said Tuesday it introduced its first network\\ncomputer, called the JavaStation.  The scaled-down personal computer,\\ndesigned to access corporate networks and the Internet, carries a\\nprice tag of $742, the company said.  Sun said the entry level model,\\ncontaining eight megabytes of memory, will ship beginning in\\nDecember. A fully configured system, which includes memory, keyboard,\\na mouse and fourteen-inch monitor will cost $995.  The company also\\nsaid it will offer a JavaStation with 16 megabytes of memory for\\n$1,565.\\n'"
      ]
     },
     "execution_count": 2,
     "metadata": {},
     "output_type": "execute_result"
    }
   ],
   "source": [
    "text = unicode(open('/home/datascience/stones/examples/sun.txt').read())\n",
    "text"
   ]
  },
  {
   "cell_type": "markdown",
   "metadata": {},
   "source": [
    "Ah, memories. Let's run this through the NLP and see what we get"
   ]
  },
  {
   "cell_type": "code",
   "execution_count": 3,
   "metadata": {},
   "outputs": [
    {
     "name": "stdout",
     "output_type": "stream",
     "text": [
      "(u'Sun Microsystems', 0, 16, u'ORG')\n",
      "(u'Sun Microsystems Inc.', 44, 65, u'ORG')\n",
      "(u'Tuesday', 71, 78, u'DATE')\n",
      "(u'\\n', 110, 111, u'GPE')\n",
      "(u'JavaStation', 132, 143, u'ORG')\n",
      "(u'\\n', 180, 181, u'GPE')\n",
      "(u'\\n', 246, 247, u'GPE')\n",
      "(u'742', 261, 264, u'MONEY')\n",
      "(u'Sun', 285, 288, u'ORG')\n",
      "(u'\\n', 316, 317, u'GPE')\n",
      "(u'eight megabytes', 328, 343, u'QUANTITY')\n",
      "(u'\\n', 377, 378, u'GPE')\n",
      "(u'December', 378, 386, u'DATE')\n",
      "(u'\\n', 447, 448, u'GPE')\n",
      "(u'fourteen-inch', 460, 473, u'QUANTITY')\n",
      "(u'995', 493, 496, u'MONEY')\n",
      "(u'\\n', 515, 516, u'GPE')\n",
      "(u'JavaStation', 537, 548, u'ORG')\n",
      "(u'16 megabytes', 554, 566, u'QUANTITY')\n",
      "(u'\\n', 580, 581, u'GPE')\n",
      "(u'1,565', 582, 587, u'MONEY')\n",
      "(u'\\n', 588, 589, u'GPE')\n"
     ]
    }
   ],
   "source": [
    "doc = nlp(text)\n",
    "for ent in doc.ents:\n",
    "    print(ent.text, ent.start_char, ent.end_char, ent.label_)"
   ]
  },
  {
   "cell_type": "markdown",
   "metadata": {},
   "source": [
    "Looks like it did a reasonable job, but it's tagging whitespace as GPE? That's weird, and it turns out it's a problem in the current code, which we can deal with by adding a post-processing step to the pipeline:"
   ]
  },
  {
   "cell_type": "code",
   "execution_count": 4,
   "metadata": {},
   "outputs": [
    {
     "name": "stdout",
     "output_type": "stream",
     "text": [
      "(u'Sun Microsystems', 0, 16, u'ORG')\n",
      "(u'Sun Microsystems Inc.', 44, 65, u'ORG')\n",
      "(u'Tuesday', 71, 78, u'DATE')\n",
      "(u'JavaStation', 132, 143, u'ORG')\n",
      "(u'742', 261, 264, u'MONEY')\n",
      "(u'Sun', 285, 288, u'ORG')\n",
      "(u'eight megabytes', 328, 343, u'QUANTITY')\n",
      "(u'December', 378, 386, u'DATE')\n",
      "(u'fourteen-inch', 460, 473, u'QUANTITY')\n",
      "(u'995', 493, 496, u'MONEY')\n",
      "(u'JavaStation', 537, 548, u'ORG')\n",
      "(u'16 megabytes', 554, 566, u'QUANTITY')\n",
      "(u'1,565', 582, 587, u'MONEY')\n"
     ]
    }
   ],
   "source": [
    "def remove_whitespace_entities(doc):\n",
    "    doc.ents = [e for e in doc.ents if not e.text.isspace()]\n",
    "    return doc\n",
    "\n",
    "nlp.add_pipe(remove_whitespace_entities, after='ner')\n",
    "doc = nlp(text)\n",
    "for ent in doc.ents:\n",
    "    print(ent.text, ent.start_char, ent.end_char, ent.label_)"
   ]
  },
  {
   "cell_type": "markdown",
   "metadata": {},
   "source": [
    "That's better, let's see what Oracle's up to:"
   ]
  },
  {
   "cell_type": "code",
   "execution_count": 5,
   "metadata": {},
   "outputs": [
    {
     "data": {
      "text/plain": [
       "u\"Oracle licenses Borland Java.\\n\\nOracle Corp will license Borland International Inc's Java and\\nC++Builder technologies, both companies said.  Under terms, Oracle\\nwill integrate and distribute Borland's C++Builder, a new object\\ndevelopment tool, and JBuilder software tools with several of its\\nexisting and future products.  The license is worldwide and\\nnon-exclusive.  Oracle will incorporate Borland's Java technologies\\ninto many of its tools, including Developer/2000, Designer/2000 and\\nSedona.\\n\""
      ]
     },
     "execution_count": 5,
     "metadata": {},
     "output_type": "execute_result"
    }
   ],
   "source": [
    "text = unicode(open('/home/datascience/stones/examples/oracle.txt').read())\n",
    "text"
   ]
  },
  {
   "cell_type": "code",
   "execution_count": 6,
   "metadata": {},
   "outputs": [
    {
     "name": "stdout",
     "output_type": "stream",
     "text": [
      "(u'Borland Java', 16, 28, u'ORG')\n",
      "(u'Oracle Corp', 31, 42, u'PERSON')\n",
      "(u\"Borland International Inc's\", 56, 83, u'ORG')\n",
      "(u'Java', 84, 88, u'NORP')\n",
      "(u'Oracle\\n', 153, 160, u'ORG')\n",
      "(u'Borland', 190, 197, u'GPE')\n",
      "(u'C++Builder', 200, 210, u'ORG')\n",
      "(u'JBuilder', 247, 255, u'ORG')\n",
      "(u'Oracle', 367, 373, u'PERSON')\n",
      "(u'Borland', 391, 398, u'GPE')\n",
      "(u'Java', 401, 405, u'NORP')\n"
     ]
    }
   ],
   "source": [
    "doc = nlp(text)\n",
    "for ent in doc.ents:\n",
    "    print(ent.text, ent.start_char, ent.end_char, ent.label_)"
   ]
  },
  {
   "cell_type": "markdown",
   "metadata": {},
   "source": [
    "Not so great on the entities in that one. So let's try to add some examples to the NER and see if we can make it any better. We need to generate training data in the format that spaCy needs.\n",
    "\n",
    "Let's run a few examples through the NER, correct the mistakes that it makes, and then use the fixed up annotated versions to update the NER model. \n",
    "\n",
    "We'll use a function that does a list comprehension on the results of the NER to make our initial list. Note that this data is not exactly in the training format for spaCy: I've added the text of the extracted entity to the tuples with the entity labels so that it'll be easier to understand how to fix when cleaning it up."
   ]
  },
  {
   "cell_type": "code",
   "execution_count": 8,
   "metadata": {},
   "outputs": [
    {
     "data": {
      "text/plain": [
       "[(u'Sun Microsystems unveils network computer.  Sun Microsystems Inc. said Tuesday it introduced its first network computer, called the JavaStation.  The scaled-down personal computer, designed to access corporate networks and the Internet, carries a price tag of $742, the company said.  Sun said the entry level model, containing eight megabytes of memory, will ship beginning in December. A fully configured system, which includes memory, keyboard, a mouse and fourteen-inch monitor will cost $995.  The company also said it will offer a JavaStation with 16 megabytes of memory for $1,565. \\n',\n",
       "  {'entities': [(0, 16, u'ORG', u'Sun Microsystems'),\n",
       "    (44, 65, u'ORG', u'Sun Microsystems Inc.'),\n",
       "    (71, 78, u'DATE', u'Tuesday'),\n",
       "    (97, 102, u'ORDINAL', u'first'),\n",
       "    (132, 143, u'ORG', u'JavaStation'),\n",
       "    (261, 264, u'MONEY', u'742'),\n",
       "    (285, 288, u'ORG', u'Sun'),\n",
       "    (328, 343, u'QUANTITY', u'eight megabytes'),\n",
       "    (378, 386, u'DATE', u'December'),\n",
       "    (460, 473, u'QUANTITY', u'fourteen-inch'),\n",
       "    (493, 496, u'MONEY', u'995'),\n",
       "    (537, 548, u'ORG', u'JavaStation'),\n",
       "    (554, 566, u'QUANTITY', u'16 megabytes'),\n",
       "    (582, 587, u'MONEY', u'1,565')]}),\n",
       " (u\"Oracle licenses Borland Java.  Oracle Corp will license Borland International Inc's Java and C++Builder technologies, both companies said.  Under terms, Oracle will integrate and distribute Borland's C++Builder, a new object development tool, and JBuilder software tools with several of its existing and future products.  The license is worldwide and non-exclusive.  Oracle will incorporate Borland's Java technologies into many of its tools, including Developer/2000, Designer/2000 and Sedona. \\n\",\n",
       "  {'entities': [(16, 28, u'ORG', u'Borland Java'),\n",
       "    (31, 42, u'PERSON', u'Oracle Corp'),\n",
       "    (56, 83, u'ORG', u\"Borland International Inc's\"),\n",
       "    (84, 88, u'NORP', u'Java'),\n",
       "    (190, 197, u'GPE', u'Borland'),\n",
       "    (200, 210, u'ORG', u'C++Builder'),\n",
       "    (247, 255, u'ORG', u'JBuilder'),\n",
       "    (367, 373, u'PERSON', u'Oracle'),\n",
       "    (391, 398, u'GPE', u'Borland'),\n",
       "    (401, 405, u'NORP', u'Java'),\n",
       "    (487, 493, u'PERSON', u'Sedona')]}),\n",
       " (u\"Oracle's Oracle8 universal server in beta. Oracle Corp said on Wednesday that its new Oracle Universal Server, Oracle8, entered beta testing last week.  Oracle said the software will be tested by customers on five different Unix platforms and Windows NT.  The company said more than 300 users had been trained on the product, which will undergo intensive testing before becoming generally available.\\n\",\n",
       "  {'entities': [(43, 54, u'ORG', u'Oracle Corp'),\n",
       "    (63, 72, u'DATE', u'Wednesday'),\n",
       "    (86, 109, u'ORG', u'Oracle Universal Server'),\n",
       "    (141, 150, u'DATE', u'last week'),\n",
       "    (153, 159, u'PERSON', u'Oracle'),\n",
       "    (209, 213, u'CARDINAL', u'five'),\n",
       "    (243, 253, u'PRODUCT', u'Windows NT'),\n",
       "    (273, 286, u'CARDINAL', u'more than 300')]}),\n",
       " (u'Oracle to buy Datalogix for $94 mln. Oracle Corp and Datalogix International Inc have signed a definitive agreement under which Oracle is to acquire Datalogix for about $94 million in cash, the two companies said Tuesday. Oracle currently owns 13.4 percent of the outstanding shares of Datalogix, a Valhalla, N.Y.-base company that provides software for process manufacturing. Oracle is to purchase all of the remaining shares for $81 million, or $8.00 a share. The deal will close once it is approved by shareholders and regulators.\\n',\n",
       "  {'entities': [(14, 23, u'GPE', u'Datalogix'),\n",
       "    (29, 31, u'MONEY', u'94'),\n",
       "    (37, 48, u'ORG', u'Oracle Corp'),\n",
       "    (53, 80, u'ORG', u'Datalogix International Inc'),\n",
       "    (128, 134, u'ORG', u'Oracle'),\n",
       "    (149, 158, u'GPE', u'Datalogix'),\n",
       "    (163, 180, u'MONEY', u'about $94 million'),\n",
       "    (194, 197, u'CARDINAL', u'two'),\n",
       "    (213, 220, u'DATE', u'Tuesday'),\n",
       "    (244, 256, u'PERCENT', u'13.4 percent'),\n",
       "    (286, 295, u'GPE', u'Datalogix'),\n",
       "    (299, 307, u'GPE', u'Valhalla'),\n",
       "    (309, 312, u'GPE', u'N.Y'),\n",
       "    (431, 442, u'MONEY', u'$81 million'),\n",
       "    (448, 452, u'MONEY', u'8.00')]})]"
      ]
     },
     "execution_count": 8,
     "metadata": {},
     "output_type": "execute_result"
    }
   ],
   "source": [
    "def annotate_example(doc):\n",
    "    return (doc.text, {'entities': [(e.start_char, e.end_char, e.label_, e.text) for e in doc.ents]})\n",
    "\n",
    "unclean_train = [annotate_example(nlp(unicode(open('/home/datascience/stones/examples/'+f).read()))) for f in ['sun_one.txt', 'oracle_one.txt', 'oracle2_one.txt', 'oracle3_one.txt']]\n",
    "unclean_train\n"
   ]
  },
  {
   "cell_type": "markdown",
   "metadata": {},
   "source": [
    "I'm not going to show the editing. I'm doing that like a gentleman (i.e., in emacs) and I'll paste the results into the session when I'm finished.\n",
    "\n",
    "*time passes*\n",
    "\n",
    "And here we go:"
   ]
  },
  {
   "cell_type": "code",
   "execution_count": 13,
   "metadata": {},
   "outputs": [],
   "source": [
    "clean_train = [(u'Sun Microsystems unveils network computer.  Sun Microsystems Inc. said Tuesday it introduced its first network computer, called the JavaStation.  The scaled-down personal computer, designed to access corporate networks and the Internet, carries a price tag of $742, the company said.  Sun said the entry level model, containing eight megabytes of memory, will ship beginning in December. A fully configured system, which includes memory, keyboard, a mouse and fourteen-inch monitor will cost $995.  The company also said it will offer a JavaStation with 16 megabytes of memory for $1,565. \\n',\n",
    "  {'entities': [(0, 16, u'ORG'),\n",
    "    (44, 65, u'ORG'),\n",
    "    (71, 78, u'DATE'),\n",
    "    (97, 102, u'ORDINAL'),\n",
    "    (132, 143, u'PRODUCT'),\n",
    "    (261, 264, u'MONEY'),\n",
    "    (285, 288, u'ORG'),\n",
    "    (328, 343, u'QUANTITY'),\n",
    "    (378, 386, u'DATE'),\n",
    "    (460, 473, u'QUANTITY'),\n",
    "    (493, 496, u'MONEY'),\n",
    "    (537, 548, u'PRODUCT'),\n",
    "    (554, 566, u'QUANTITY'),\n",
    "    (582, 587, u'MONEY')]}),\n",
    " (u\"Oracle licenses Borland Java.  Oracle Corp will license Borland International Inc's Java and C++Builder technologies, both companies said.  Under terms, Oracle will integrate and distribute Borland's C++Builder, a new object development tool, and JBuilder software tools with several of its existing and future products.  The license is worldwide and non-exclusive.  Oracle will incorporate Borland's Java technologies into many of its tools, including Developer/2000, Designer/2000 and Sedona. \\n\",\n",
    "  {'entities': [(16, 28, u'PRODUCT'),\n",
    "    (31, 42, u'ORG'),\n",
    "    (56, 83, u'ORG'),\n",
    "    (84, 88, u'PRODUCT'),\n",
    "    (190, 197, u'ORG'),\n",
    "    (200, 210, u'PRODUCT'),\n",
    "    (247, 255, u'PRODUCT'),\n",
    "    (367, 373, u'ORG'),\n",
    "    (391, 398, u'ORG'),\n",
    "    (401, 405, u'PRODUCT'),\n",
    "    (487, 493, u'PRODUCT')]}),\n",
    " (u\"Oracle's Oracle8 universal server in beta. Oracle Corp said on Wednesday that its new Oracle Universal Server, Oracle8, entered beta testing last week.  Oracle said the software will be tested by customers on five different Unix platforms and Windows NT.  The company said more than 300 users had been trained on the product, which will undergo intensive testing before becoming generally available.\\n\",\n",
    "  {'entities': [(43, 54, u'ORG'),\n",
    "    (63, 72, u'DATE'),\n",
    "    (86, 109, u'PRODUCT'),\n",
    "    (141, 150, u'DATE'),\n",
    "    (153, 159, u'ORG'),\n",
    "    (209, 213, u'CARDINAL'),\n",
    "    (243, 253, u'PRODUCT'),\n",
    "    (273, 286, u'CARDINAL')]}),\n",
    " (u'Oracle to buy Datalogix for $94 mln. Oracle Corp and Datalogix International Inc have signed a definitive agreement under which Oracle is to acquire Datalogix for about $94 million in cash, the two companies said Tuesday. Oracle currently owns 13.4 percent of the outstanding shares of Datalogix, a Valhalla, N.Y.-base company that provides software for process manufacturing. Oracle is to purchase all of the remaining shares for $81 million, or $8.00 a share. The deal will close once it is approved by shareholders and regulators.\\n',\n",
    "  {'entities': [(14, 23, u'ORG'),\n",
    "    (29, 31, u'MONEY'),\n",
    "    (37, 48, u'ORG'),\n",
    "    (53, 80, u'ORG'),\n",
    "    (128, 134, u'ORG'),\n",
    "    (149, 158, u'ORG'),\n",
    "    (163, 180, u'MONEY'),\n",
    "    (194, 197, u'CARDINAL'),\n",
    "    (213, 220, u'DATE'),\n",
    "    (244, 256, u'PERCENT'),\n",
    "    (286, 295, u'ORG'),\n",
    "    (299, 307, u'GPE'),\n",
    "    (309, 312, u'GPE'),\n",
    "    (431, 442, u'MONEY'),\n",
    "    (448, 452, u'MONEY')]})]"
   ]
  },
  {
   "cell_type": "markdown",
   "metadata": {},
   "source": [
    "The keen-eyed will note that this documents-and-offsets approach for representing a document and it's annotations is essentially what our DocView toolkit does. All right, lets update our NER model. Note that we're only adding training data for the existing entity types. We could add data for a new label here.\n",
    "\n",
    "This code is taken pretty much verbatim from the spaCy documentation."
   ]
  },
  {
   "cell_type": "code",
   "execution_count": 14,
   "metadata": {},
   "outputs": [
    {
     "name": "stdout",
     "output_type": "stream",
     "text": [
      "{u'ner': 62.12408423431214}\n",
      "{u'ner': 47.842529071138095}\n",
      "{u'ner': 46.09913378181367}\n",
      "{u'ner': 31.179111287359255}\n",
      "{u'ner': 32.94380223598171}\n",
      "{u'ner': 19.204441226902027}\n",
      "{u'ner': 21.73971905057339}\n",
      "{u'ner': 34.78534688709221}\n",
      "{u'ner': 19.85029929094718}\n",
      "{u'ner': 8.297226552338868}\n",
      "{u'ner': 10.496909284611247}\n",
      "{u'ner': 5.026812666582371}\n",
      "{u'ner': 12.235058422822858}\n",
      "{u'ner': 9.222539850029868}\n",
      "{u'ner': 5.215412125393285}\n",
      "{u'ner': 6.1230676908295045}\n",
      "{u'ner': 4.792570929734541}\n",
      "{u'ner': 5.440482463634183}\n",
      "{u'ner': 4.078647335200401}\n",
      "{u'ner': 11.612032433464192}\n",
      "{u'ner': 6.163535577891217}\n",
      "{u'ner': 4.854314655370253}\n",
      "{u'ner': 7.771697830316763}\n",
      "{u'ner': 5.7436849484252726}\n",
      "{u'ner': 15.860697749271731}\n",
      "{u'ner': 8.735517317146856}\n",
      "{u'ner': 3.921501150986006}\n",
      "{u'ner': 1.866006226812808}\n",
      "{u'ner': 2.1762267108019775}\n",
      "{u'ner': 5.779164969960698}\n"
     ]
    }
   ],
   "source": [
    "import random\n",
    "ner = nlp.get_pipe('ner')\n",
    "other_pipes = [pipe for pipe in nlp.pipe_names if pipe != 'ner']\n",
    "with nlp.disable_pipes(*other_pipes):\n",
    "    optimizer = nlp.begin_training()\n",
    "    for itn in range(30):\n",
    "        random.shuffle(clean_train)\n",
    "        losses = {}\n",
    "        for text, annotations in clean_train:\n",
    "            nlp.update(\n",
    "                    [text],  # batch of texts\n",
    "                    [annotations],  # batch of annotations\n",
    "                    drop=0.5,  # dropout - make it harder to memorise data\n",
    "                    sgd=optimizer,  # callable to update weights\n",
    "                    losses=losses)\n",
    "        print(losses)"
   ]
  },
  {
   "cell_type": "markdown",
   "metadata": {},
   "source": [
    "The model's been updated. At this point we could save it somewhere, which is where the DS model management infrastructure would come into play. Since we're just messing around, we won't save it for now. In a perfect world, at this point we would run some unseen test examples through the system, but for now let's just see how it does on the training data that we used."
   ]
  },
  {
   "cell_type": "code",
   "execution_count": 18,
   "metadata": {
    "scrolled": true
   },
   "outputs": [
    {
     "name": "stdout",
     "output_type": "stream",
     "text": [
      "Oracle licenses Borland Java.  Oracle Corp will license Borland International Inc's Java and C++Builder technologies, both companies said.  Under terms, Oracle will integrate and distribute Borland's C++Builder, a new object development tool, and JBuilder software tools with several of its existing and future products.  The license is worldwide and non-exclusive.  Oracle will incorporate Borland's Java technologies into many of its tools, including Developer/2000, Designer/2000 and Sedona. \n",
      "\n",
      "(u'Borland Java', 16, 28, u'PRODUCT')\n",
      "(u'Oracle Corp', 31, 42, u'ORG')\n",
      "(u\"Borland International Inc's\", 56, 83, u'ORG')\n",
      "(u'Java', 84, 88, u'PRODUCT')\n",
      "(u'Borland', 190, 197, u'ORG')\n",
      "(u'C++Builder', 200, 210, u'PRODUCT')\n",
      "(u'JBuilder', 247, 255, u'PRODUCT')\n",
      "(u'Oracle', 367, 373, u'ORG')\n",
      "(u'Borland', 391, 398, u'ORG')\n",
      "(u'Java', 401, 405, u'PRODUCT')\n",
      "(u'Sedona', 487, 493, u'PRODUCT')\n",
      "\n",
      "Oracle to buy Datalogix for $94 mln. Oracle Corp and Datalogix International Inc have signed a definitive agreement under which Oracle is to acquire Datalogix for about $94 million in cash, the two companies said Tuesday. Oracle currently owns 13.4 percent of the outstanding shares of Datalogix, a Valhalla, N.Y.-base company that provides software for process manufacturing. Oracle is to purchase all of the remaining shares for $81 million, or $8.00 a share. The deal will close once it is approved by shareholders and regulators.\n",
      "\n",
      "(u'Datalogix', 14, 23, u'ORG')\n",
      "(u'94', 29, 31, u'MONEY')\n",
      "(u'Oracle Corp', 37, 48, u'ORG')\n",
      "(u'Datalogix International Inc', 53, 80, u'ORG')\n",
      "(u'Oracle', 128, 134, u'ORG')\n",
      "(u'Datalogix', 149, 158, u'ORG')\n",
      "(u'about $94 million', 163, 180, u'MONEY')\n",
      "(u'two', 194, 197, u'CARDINAL')\n",
      "(u'Tuesday', 213, 220, u'DATE')\n",
      "(u'13.4 percent', 244, 256, u'PERCENT')\n",
      "(u'Datalogix', 286, 295, u'ORG')\n",
      "(u'Valhalla', 299, 307, u'GPE')\n",
      "(u'N.Y', 309, 312, u'GPE')\n",
      "(u'$81 million', 431, 442, u'MONEY')\n",
      "(u'8.00', 448, 452, u'MONEY')\n",
      "\n",
      "Sun Microsystems unveils network computer.  Sun Microsystems Inc. said Tuesday it introduced its first network computer, called the JavaStation.  The scaled-down personal computer, designed to access corporate networks and the Internet, carries a price tag of $742, the company said.  Sun said the entry level model, containing eight megabytes of memory, will ship beginning in December. A fully configured system, which includes memory, keyboard, a mouse and fourteen-inch monitor will cost $995.  The company also said it will offer a JavaStation with 16 megabytes of memory for $1,565. \n",
      "\n",
      "(u'Sun Microsystems', 0, 16, u'ORG')\n",
      "(u'Sun Microsystems Inc.', 44, 65, u'ORG')\n",
      "(u'Tuesday', 71, 78, u'DATE')\n",
      "(u'first', 97, 102, u'ORDINAL')\n",
      "(u'JavaStation', 132, 143, u'PRODUCT')\n",
      "(u'742', 261, 264, u'MONEY')\n",
      "(u'Sun', 285, 288, u'ORG')\n",
      "(u'eight megabytes', 328, 343, u'QUANTITY')\n",
      "(u'December', 378, 386, u'DATE')\n",
      "(u'fourteen-inch', 460, 473, u'QUANTITY')\n",
      "(u'995', 493, 496, u'MONEY')\n",
      "(u'JavaStation', 537, 548, u'PRODUCT')\n",
      "(u'16 megabytes', 554, 566, u'QUANTITY')\n",
      "(u'1,565', 582, 587, u'MONEY')\n",
      "\n",
      "Oracle's Oracle8 universal server in beta. Oracle Corp said on Wednesday that its new Oracle Universal Server, Oracle8, entered beta testing last week.  Oracle said the software will be tested by customers on five different Unix platforms and Windows NT.  The company said more than 300 users had been trained on the product, which will undergo intensive testing before becoming generally available.\n",
      "\n",
      "(u'Oracle Corp', 43, 54, u'ORG')\n",
      "(u'Wednesday', 63, 72, u'DATE')\n",
      "(u'Oracle Universal Server', 86, 109, u'PRODUCT')\n",
      "(u'last week', 141, 150, u'DATE')\n",
      "(u'Oracle', 153, 159, u'ORG')\n",
      "(u'five', 209, 213, u'CARDINAL')\n",
      "(u'Windows NT', 243, 253, u'PRODUCT')\n",
      "(u'more than 300', 273, 286, u'CARDINAL')\n",
      "\n"
     ]
    }
   ],
   "source": [
    "for text, _ in clean_train:\n",
    "    doc = nlp(text)\n",
    "    print text\n",
    "    for ent in doc.ents:\n",
    "        print(ent.text, ent.start_char, ent.end_char, ent.label_)\n",
    "    print ''"
   ]
  },
  {
   "cell_type": "markdown",
   "metadata": {},
   "source": [
    "It appears that the model is getting more of the entity types right. Note that spaCy uses neural models, so it's possible that the neural net has simply memorized these examples, which is why we need unseen testing data."
   ]
  }
 ],
 "metadata": {
  "kernelspec": {
   "display_name": "Python 2",
   "language": "python",
   "name": "python2"
  },
  "language_info": {
   "codemirror_mode": {
    "name": "ipython",
    "version": 2
   },
   "file_extension": ".py",
   "mimetype": "text/x-python",
   "name": "python",
   "nbconvert_exporter": "python",
   "pygments_lexer": "ipython2",
   "version": "2.7.9"
  }
 },
 "nbformat": 4,
 "nbformat_minor": 2
}
