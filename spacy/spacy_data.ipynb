{
 "cells": [
  {
   "cell_type": "code",
   "execution_count": 1,
   "metadata": {},
   "outputs": [],
   "source": [
    "import spacy\n",
    "nlp = spacy.load('en')"
   ]
  },
  {
   "cell_type": "code",
   "execution_count": 2,
   "metadata": {},
   "outputs": [],
   "source": [
    "def remove_whitespace_entities(doc):\n",
    "    doc.ents = [e for e in doc.ents if not e.text.isspace()]\n",
    "    return doc\n",
    "\n",
    "nlp.add_pipe(remove_whitespace_entities, after='ner')"
   ]
  },
  {
   "cell_type": "code",
   "execution_count": 3,
   "metadata": {},
   "outputs": [
    {
     "name": "stdout",
     "output_type": "stream",
     "text": [
      "(u'Borland Java', 16, 28, u'ORG')\n",
      "(u'Oracle Corp', 31, 42, u'PERSON')\n",
      "(u\"Borland International Inc's\", 56, 83, u'ORG')\n",
      "(u'Java', 84, 88, u'NORP')\n",
      "(u'Borland', 190, 197, u'GPE')\n",
      "(u'C++Builder', 200, 210, u'ORG')\n",
      "(u'JBuilder', 247, 255, u'ORG')\n",
      "(u'Oracle', 367, 373, u'PERSON')\n",
      "(u'Borland', 391, 398, u'GPE')\n",
      "(u'Java', 401, 405, u'NORP')\n",
      "(u'Sedona', 487, 493, u'PERSON')\n"
     ]
    }
   ],
   "source": [
    "text = unicode(open('/home/datascience/stones/examples/oracle_one.txt').read())\n",
    "doc = nlp(text)\n",
    "for ent in doc.ents:\n",
    "    print(ent.text, ent.start_char, ent.end_char, ent.label_)"
   ]
  },
  {
   "cell_type": "code",
   "execution_count": 4,
   "metadata": {},
   "outputs": [
    {
     "data": {
      "text/plain": [
       "(u\"Oracle licenses Borland Java.  Oracle Corp will license Borland International Inc's Java and C++Builder technologies, both companies said.  Under terms, Oracle will integrate and distribute Borland's C++Builder, a new object development tool, and JBuilder software tools with several of its existing and future products.  The license is worldwide and non-exclusive.  Oracle will incorporate Borland's Java technologies into many of its tools, including Developer/2000, Designer/2000 and Sedona. \\n\",\n",
       " {'entities': [(16, 28, u'ORG', u'Borland Java'),\n",
       "   (31, 42, u'PERSON', u'Oracle Corp'),\n",
       "   (56, 83, u'ORG', u\"Borland International Inc's\"),\n",
       "   (84, 88, u'NORP', u'Java'),\n",
       "   (190, 197, u'GPE', u'Borland'),\n",
       "   (200, 210, u'ORG', u'C++Builder'),\n",
       "   (247, 255, u'ORG', u'JBuilder'),\n",
       "   (367, 373, u'PERSON', u'Oracle'),\n",
       "   (391, 398, u'GPE', u'Borland'),\n",
       "   (401, 405, u'NORP', u'Java'),\n",
       "   (487, 493, u'PERSON', u'Sedona')]})"
      ]
     },
     "execution_count": 4,
     "metadata": {},
     "output_type": "execute_result"
    }
   ],
   "source": [
    "(doc.text, {'entities': [(e.start_char, e.end_char, e.label_, e.text) for e in doc.ents]})"
   ]
  },
  {
   "cell_type": "code",
   "execution_count": 5,
   "metadata": {},
   "outputs": [],
   "source": [
    "def annotate_example(doc):\n",
    "    return (doc.text, {'entities': [(e.start_char, e.end_char, e.label_, e.text) for e in doc.ents]})"
   ]
  },
  {
   "cell_type": "code",
   "execution_count": 6,
   "metadata": {},
   "outputs": [
    {
     "data": {
      "text/plain": [
       "(u\"Oracle licenses Borland Java.  Oracle Corp will license Borland International Inc's Java and C++Builder technologies, both companies said.  Under terms, Oracle will integrate and distribute Borland's C++Builder, a new object development tool, and JBuilder software tools with several of its existing and future products.  The license is worldwide and non-exclusive.  Oracle will incorporate Borland's Java technologies into many of its tools, including Developer/2000, Designer/2000 and Sedona. \\n\",\n",
       " {'entities': [(16, 28, u'ORG', u'Borland Java'),\n",
       "   (31, 42, u'PERSON', u'Oracle Corp'),\n",
       "   (56, 83, u'ORG', u\"Borland International Inc's\"),\n",
       "   (84, 88, u'NORP', u'Java'),\n",
       "   (190, 197, u'GPE', u'Borland'),\n",
       "   (200, 210, u'ORG', u'C++Builder'),\n",
       "   (247, 255, u'ORG', u'JBuilder'),\n",
       "   (367, 373, u'PERSON', u'Oracle'),\n",
       "   (391, 398, u'GPE', u'Borland'),\n",
       "   (401, 405, u'NORP', u'Java'),\n",
       "   (487, 493, u'PERSON', u'Sedona')]})"
      ]
     },
     "execution_count": 6,
     "metadata": {},
     "output_type": "execute_result"
    }
   ],
   "source": [
    "annotate_example(doc)"
   ]
  },
  {
   "cell_type": "code",
   "execution_count": 7,
   "metadata": {},
   "outputs": [
    {
     "data": {
      "text/plain": [
       "[u'tagger', u'parser', u'ner', 'remove_whitespace_entities']"
      ]
     },
     "execution_count": 7,
     "metadata": {},
     "output_type": "execute_result"
    }
   ],
   "source": [
    "nlp.pipe_names"
   ]
  }
 ],
 "metadata": {
  "kernelspec": {
   "display_name": "Python 2",
   "language": "python",
   "name": "python2"
  },
  "language_info": {
   "codemirror_mode": {
    "name": "ipython",
    "version": 2
   },
   "file_extension": ".py",
   "mimetype": "text/x-python",
   "name": "python",
   "nbconvert_exporter": "python",
   "pygments_lexer": "ipython2",
   "version": "2.7.9"
  }
 },
 "nbformat": 4,
 "nbformat_minor": 2
}
